{
  "nbformat": 4,
  "nbformat_minor": 0,
  "metadata": {
    "colab": {
      "name": "running_with_GPU.ipynb",
      "provenance": [],
      "collapsed_sections": [],
      "toc_visible": true
    },
    "kernelspec": {
      "name": "python3",
      "display_name": "Python 3"
    },
    "language_info": {
      "name": "python"
    },
    "accelerator": "GPU"
  },
  "cells": [
    {
      "cell_type": "markdown",
      "source": [
        "# Running Code on GPU\n",
        "The only purpose of this notebook is to allow me to use a Google Colab GPU for training the pytorch and custom CNN models. To run this code, upload the project to google drive with this notebook in the base directory of the project, and ensure that the `classifiers` has the two python files, `pytorch_CNN.py` and `custom_CNN.py`. The custom layers file `layers.py` should be inside the `classifiers/custom_CNN_utils` directory. Also, the CIFAR-10 dataset should be downloaded in the `dataset` folder, which can be done by running the `download_cifar.sh` bash script. "
      ],
      "metadata": {
        "id": "71M7ND5gGiET"
      }
    },
    {
      "cell_type": "code",
      "execution_count": 1,
      "metadata": {
        "colab": {
          "base_uri": "https://localhost:8080/"
        },
        "id": "uxMpegNVEUU0",
        "outputId": "7c4ea219-2b1a-4b18-9894-528878f554e4"
      },
      "outputs": [
        {
          "output_type": "stream",
          "name": "stdout",
          "text": [
            "Mounted at /content/drive\n"
          ]
        }
      ],
      "source": [
        "from google.colab import drive\n",
        "drive.mount('/content/drive', force_remount=True)"
      ]
    },
    {
      "cell_type": "code",
      "source": [
        "%cd drive/My\\ Drive/566\\ -\\ Project\n",
        "%ls"
      ],
      "metadata": {
        "colab": {
          "base_uri": "https://localhost:8080/"
        },
        "id": "LdPg58ElJYs5",
        "outputId": "2c05f566-cfd0-43cf-ee04-d1262c4b9de4"
      },
      "execution_count": 2,
      "outputs": [
        {
          "output_type": "stream",
          "name": "stdout",
          "text": [
            "/content/drive/.shortcut-targets-by-id/1nHXl0axLDIs14oaQorFVWfHIzd3byic5/566 - Project\n",
            "\u001b[0m\u001b[01;34mclassifiers\u001b[0m/  data.py   metrics.py  \u001b[01;34m__pycache__\u001b[0m/            \u001b[01;34msaved_models\u001b[0m/\n",
            "consts.py     \u001b[01;34mdataset\u001b[0m/  \u001b[01;34mplots\u001b[0m/      running_with_GPU.ipynb\n"
          ]
        }
      ]
    },
    {
      "cell_type": "markdown",
      "source": [
        "### **Run** written python script - pytorch CNN"
      ],
      "metadata": {
        "id": "45UZ9sGRI8z-"
      }
    },
    {
      "cell_type": "code",
      "source": [
        "!python -m classifiers.pytorch_CNN.py"
      ],
      "metadata": {
        "id": "QUVvjluAF34y",
        "colab": {
          "base_uri": "https://localhost:8080/"
        },
        "outputId": "781f95a0-908b-469d-a81d-c003032d26eb"
      },
      "execution_count": 4,
      "outputs": [
        {
          "output_type": "stream",
          "name": "stdout",
          "text": [
            "Using device cuda:0\n",
            "tcmalloc: large alloc 1216512000 bytes == 0x55d87af6a000 @  0x7f4d917311e7 0x7f4d8f2b146e 0x7f4d8f301c7b 0x7f4d8f301d18 0x7f4d8f3bdd79 0x7f4d8f3c0e4c 0x7f4d8f4dfe7f 0x7f4d8f4e5fb5 0x7f4d8f4e7e3d 0x7f4d8f4e9516 0x55d855477720 0x55d8554772f9 0x7f4d8f3c84d8 0x55d855459933 0x55d855560496 0x55d8554e784a 0x55d855477afa 0x55d8554e5915 0x55d8554e49ee 0x55d855477bda 0x55d8554e6737 0x55d8554e49ee 0x55d8554e46f3 0x55d8554e2a5b 0x55d85558b802 0x55d8554787da 0x55d8554eb18e 0x55d8554e49ee 0x55d855477bda 0x55d8554e9d00 0x55d855477afa\n",
            "tcmalloc: large alloc 1216512000 bytes == 0x55d8c3792000 @  0x7f4d917311e7 0x7f4d8f2b146e 0x7f4d8f301c7b 0x7f4d8f301d18 0x7f4d8f3bdd79 0x7f4d8f3c0e4c 0x7f4d8f4dfe7f 0x7f4d8f4e5fb5 0x7f4d8f4e7e3d 0x7f4d8f4e9516 0x55d855477720 0x55d8554772f9 0x7f4d8f3c80db 0x55d8555600b2 0x55d8554e662d 0x55d8554e49ee 0x55d855477bda 0x55d8554e6737 0x55d8554e49ee 0x55d8553b6e2b 0x55d8554e6fe4 0x55d8554e49ee 0x55d8553b6e2b 0x7f4d8f2eeef7 0x55d855476437 0x55d855476240 0x55d8554e9973 0x55d8554e49ee 0x55d855477bda 0x55d8554e6737 0x55d855477afa\n",
            "Data Loaded\n",
            "Plotted validation accuracies for different p values\n",
            "Plotted training loss\n",
            "Best model loaded\n",
            "157it [00:05, 26.37it/s]                \n",
            "Test accuracy saved in file => 61.79%\n",
            "/usr/bin/python3: Error while finding module specification for 'classifiers.pytorch_CNN.py' (ModuleNotFoundError: __path__ attribute not found on 'classifiers.pytorch_CNN' while trying to find 'classifiers.pytorch_CNN.py')\n"
          ]
        }
      ]
    },
    {
      "cell_type": "markdown",
      "source": [
        "### **Run** written python script - custom CNN"
      ],
      "metadata": {
        "id": "9lG1HiGFLur4"
      }
    },
    {
      "cell_type": "code",
      "source": [
        "# this one takes a WHILE\n",
        "!python -m classifiers.custom_CNN.py"
      ],
      "metadata": {
        "id": "5yQSr_m3LQNY",
        "colab": {
          "base_uri": "https://localhost:8080/"
        },
        "outputId": "6f5ee4a9-32c5-47c5-9e17-9faf33fa3ed6"
      },
      "execution_count": 6,
      "outputs": [
        {
          "output_type": "stream",
          "name": "stdout",
          "text": [
            "Using device cuda:0\n",
            "tcmalloc: large alloc 1216512000 bytes == 0x563480aca000 @  0x7fb748af11e7 0x7fb7465f146e 0x7fb746641c7b 0x7fb746641d18 0x7fb7466fdd79 0x7fb746700e4c 0x7fb74681fe7f 0x7fb746825fb5 0x7fb746827e3d 0x7fb746829516 0x56345a850720 0x56345a8502f9 0x7fb7467084d8 0x56345a832933 0x56345a939496 0x56345a8c084a 0x56345a850afa 0x56345a8be915 0x56345a8bd9ee 0x56345a850bda 0x56345a8bf737 0x56345a8bd9ee 0x56345a8bd6f3 0x56345a8bba5b 0x56345a964802 0x56345a8517da 0x56345a8c418e 0x56345a8bd9ee 0x56345a850bda 0x56345a8c2d00 0x56345a850afa\n",
            "tcmalloc: large alloc 1216512000 bytes == 0x5634c92f2000 @  0x7fb748af11e7 0x7fb7465f146e 0x7fb746641c7b 0x7fb746641d18 0x7fb7466fdd79 0x7fb746700e4c 0x7fb74681fe7f 0x7fb746825fb5 0x7fb746827e3d 0x7fb746829516 0x56345a850720 0x56345a8502f9 0x7fb7467080db 0x56345a9390b2 0x56345a8bf62d 0x56345a8bd9ee 0x56345a850bda 0x56345a8bf737 0x56345a8bd9ee 0x56345a78fe2b 0x56345a8bffe4 0x56345a8bd9ee 0x56345a78fe2b 0x7fb74662eef7 0x56345a84f437 0x56345a84f240 0x56345a8c2973 0x56345a8bd9ee 0x56345a850bda 0x56345a8bf737 0x56345a850afa\n",
            "Data Loaded\n",
            "history not found or need to use GPU to load saved_best_loss_history\n",
            "Best model loaded\n",
            "157it [00:05, 26.69it/s]                \n",
            "Test accuracy saved in file => 59.61%\n",
            "/usr/bin/python3: Error while finding module specification for 'classifiers.custom_CNN.py' (ModuleNotFoundError: __path__ attribute not found on 'classifiers.custom_CNN' while trying to find 'classifiers.custom_CNN.py')\n"
          ]
        }
      ]
    }
  ]
}